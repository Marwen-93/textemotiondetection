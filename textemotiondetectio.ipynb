{
 "cells": [
  {
   "cell_type": "code",
   "execution_count": 57,
   "id": "e9b677f7",
   "metadata": {},
   "outputs": [],
   "source": [
    "import  re\n",
    "import numpy as np\n",
    "import pandas as pd\n",
    "import matplotlib.pyplot as plt\n",
    "\n",
    "import nltk\n",
    "from nltk.tokenize import word_tokenize\n",
    "from nltk.corpus import stopwords\n",
    "from nltk.stem.porter import PorterStemmer\n",
    "from nltk.stem import WordNetLemmatizer\n",
    "\n",
    "\n",
    "from sklearn.model_selection import  train_test_split\n",
    "\n",
    "from sklearn.preprocessing import LabelEncoder\n",
    "from sklearn.feature_extraction.text import TfidfVectorizer\n",
    "from sklearn.svm import LinearSVC\n",
    "from sklearn.linear_model import Ridge,LinearRegression\n",
    "\n",
    "from sklearn.ensemble import RandomForestClassifier\n",
    "from sklearn.ensemble import GradientBoostingClassifier\n",
    "from sklearn.neighbors import KNeighborsClassifier\n",
    "from sklearn.tree import DecisionTreeClassifier\n",
    "from sklearn.ensemble import GradientBoostingRegressor\n",
    "from sklearn.naive_bayes import GaussianNB\n",
    "\n",
    "from sklearn.metrics import accuracy_score\n",
    "\n",
    "from sklearn.model_selection import StratifiedKFold\n",
    "from sklearn.model_selection import cross_val_score\n",
    "from sklearn.model_selection import GridSearchCV\n",
    "from sklearn.metrics import confusion_matrix\n",
    "\n",
    "\n",
    "\n",
    "\n",
    "\n",
    "\n",
    "import tensorflow as tf\n",
    "from keras.models import Sequential\n",
    "from keras.layers.core import Activation, Dropout, Dense\n",
    "from keras.layers import Flatten\n",
    "from tensorflow.keras.optimizers import SGD\n"
   ]
  },
  {
   "cell_type": "code",
   "execution_count": null,
   "id": "880c8b43",
   "metadata": {},
   "outputs": [],
   "source": [
    "def plot_confusion_matrix(cm,\n",
    "                          target_names,\n",
    "                          title='Confusion matrix',\n",
    "                          cmap=None,\n",
    "                          normalize=True):\n",
    "    \"\"\"\n",
    "    given a sklearn confusion matrix (cm), make a nice plot\n",
    "\n",
    "    Arguments\n",
    "    ---------\n",
    "    cm:           confusion matrix from sklearn.metrics.confusion_matrix\n",
    "\n",
    "    target_names: given classification classes such as [0, 1, 2]\n",
    "                  the class names, for example: ['high', 'medium', 'low']\n",
    "\n",
    "    title:        the text to display at the top of the matrix\n",
    "\n",
    "    cmap:         the gradient of the values displayed from matplotlib.pyplot.cm\n",
    "                  see http://matplotlib.org/examples/color/colormaps_reference.html\n",
    "                  plt.get_cmap('jet') or plt.cm.Blues\n",
    "\n",
    "    normalize:    If False, plot the raw numbers\n",
    "                  If True, plot the proportions\n",
    "\n",
    "    Usage\n",
    "    -----\n",
    "    plot_confusion_matrix(cm           = cm,                  # confusion matrix created by\n",
    "                                                              # sklearn.metrics.confusion_matrix\n",
    "                          normalize    = True,                # show proportions\n",
    "                          target_names = y_labels_vals,       # list of names of the classes\n",
    "                          title        = best_estimator_name) # title of graph\n",
    "\n",
    "    Citiation\n",
    "    ---------\n",
    "    http://scikit-learn.org/stable/auto_examples/model_selection/plot_confusion_matrix.html\n",
    "\n",
    "    \"\"\"\n",
    "    import matplotlib.pyplot as plt\n",
    "    import numpy as np\n",
    "    import itertools\n",
    "\n",
    "    accuracy = np.trace(cm) / float(np.sum(cm))\n",
    "    misclass = 1 - accuracy\n",
    "\n",
    "    if cmap is None:\n",
    "        cmap = plt.get_cmap('Blues')\n",
    "\n",
    "    plt.figure(figsize=(8, 6))\n",
    "    plt.imshow(cm, interpolation='nearest', cmap=cmap)\n",
    "    plt.title(title)\n",
    "    plt.colorbar()\n",
    "\n",
    "    if target_names is not None:\n",
    "        tick_marks = np.arange(len(target_names))\n",
    "        plt.xticks(tick_marks, target_names, rotation=45)\n",
    "        plt.yticks(tick_marks, target_names)\n",
    "\n",
    "    if normalize:\n",
    "        cm = cm.astype('float') / cm.sum(axis=1)[:, np.newaxis]\n",
    "\n",
    "\n",
    "    thresh = cm.max() / 1.5 if normalize else cm.max() / 2\n",
    "    for i, j in itertools.product(range(cm.shape[0]), range(cm.shape[1])):\n",
    "        if normalize:\n",
    "            plt.text(j, i, \"{:0.4f}\".format(cm[i, j]),\n",
    "                     horizontalalignment=\"center\",\n",
    "                     color=\"white\" if cm[i, j] > thresh else \"black\")\n",
    "        else:\n",
    "            plt.text(j, i, \"{:,}\".format(cm[i, j]),\n",
    "                     horizontalalignment=\"center\",\n",
    "                     color=\"white\" if cm[i, j] > thresh else \"black\")\n",
    "\n",
    "\n",
    "    plt.tight_layout()\n",
    "    plt.ylabel('True label')\n",
    "    plt.xlabel('Predicted label\\naccuracy={:0.4f}; misclass={:0.4f}'.format(accuracy, misclass))\n",
    "    plt.show()"
   ]
  },
  {
   "cell_type": "code",
   "execution_count": 4,
   "id": "4829fed4",
   "metadata": {},
   "outputs": [],
   "source": [
    "#read file text\n",
    "def readTxt(name):\n",
    "    text=[]\n",
    "    label=[]\n",
    "    with open(name) as f :\n",
    "        for line in f:\n",
    "            line=line.strip()\n",
    "            line=line.replace('[', '')\n",
    "            n=line.split(']')[0].strip()\n",
    "            t=line.split(']')[1].strip()\n",
    "            label.append(n)\n",
    "            text.append(re.sub('[^A-Za-z ]','', t))\n",
    "\n",
    "    return label,text\n",
    "# convert label to ordinal data\n",
    "emotions = [\"joy\", 'fear', \"anger\", \"sadness\", \"disgust\", \"shame\", \"guilt\"]\n",
    "\n",
    "def conevrtlabel(label,emotions):\n",
    "    labe=[]\n",
    "    for lst in label:\n",
    "        lst=lst.replace(' ','')\n",
    "        lst=lst.split('.')\n",
    "        lst=lst[:7]\n",
    "        for i in range(len(lst)):\n",
    "            if int(lst[i])==1:\n",
    "                labe.append(emotions[i])\n",
    "    return labe\n"
   ]
  },
  {
   "cell_type": "code",
   "execution_count": 5,
   "id": "1e0a70b4",
   "metadata": {},
   "outputs": [
    {
     "name": "stdout",
     "output_type": "stream",
     "text": [
      "     label                                               text  Text_length\n",
      "0      joy  During the period of falling in love each time...           23\n",
      "1     fear          When I was involved in a traffic accident            8\n",
      "2    anger  When I was driving home after  several days of...           33\n",
      "3  sadness    When I lost the person who meant the most to me           11\n",
      "4  disgust  The time I knocked a deer down  the sight of t...           41\n",
      "5    shame                     When I did not speak the truth            7\n",
      "6    guilt  When I caused problems for somebody because he...           20\n",
      "7      joy  When I got a letter offering me the Summer job...           15\n"
     ]
    }
   ],
   "source": [
    "# Load Data From txt\n",
    "label,text= readTxt('data.txt')\n",
    "label=conevrtlabel(label,emotions)\n",
    "         \n",
    "df = pd.DataFrame({'label':label,'text':text})\n",
    "\n",
    "df['Text_length'] = df.text.str.split().str.len()\n",
    "\n",
    "print(df.head(8))"
   ]
  },
  {
   "cell_type": "code",
   "execution_count": 6,
   "id": "9e7a3448",
   "metadata": {},
   "outputs": [],
   "source": [
    "# Understand Data with Visualization"
   ]
  },
  {
   "cell_type": "code",
   "execution_count": 7,
   "id": "6acda8ed",
   "metadata": {},
   "outputs": [
    {
     "data": {
      "text/html": [
       "<div>\n",
       "<style scoped>\n",
       "    .dataframe tbody tr th:only-of-type {\n",
       "        vertical-align: middle;\n",
       "    }\n",
       "\n",
       "    .dataframe tbody tr th {\n",
       "        vertical-align: top;\n",
       "    }\n",
       "\n",
       "    .dataframe thead th {\n",
       "        text-align: right;\n",
       "    }\n",
       "</style>\n",
       "<table border=\"1\" class=\"dataframe\">\n",
       "  <thead>\n",
       "    <tr style=\"text-align: right;\">\n",
       "      <th></th>\n",
       "      <th>label</th>\n",
       "      <th>text</th>\n",
       "      <th>Text_length</th>\n",
       "    </tr>\n",
       "  </thead>\n",
       "  <tbody>\n",
       "    <tr>\n",
       "      <th>0</th>\n",
       "      <td>joy</td>\n",
       "      <td>During the period of falling in love each time...</td>\n",
       "      <td>23</td>\n",
       "    </tr>\n",
       "    <tr>\n",
       "      <th>1</th>\n",
       "      <td>fear</td>\n",
       "      <td>When I was involved in a traffic accident</td>\n",
       "      <td>8</td>\n",
       "    </tr>\n",
       "    <tr>\n",
       "      <th>2</th>\n",
       "      <td>anger</td>\n",
       "      <td>When I was driving home after  several days of...</td>\n",
       "      <td>33</td>\n",
       "    </tr>\n",
       "    <tr>\n",
       "      <th>3</th>\n",
       "      <td>sadness</td>\n",
       "      <td>When I lost the person who meant the most to me</td>\n",
       "      <td>11</td>\n",
       "    </tr>\n",
       "    <tr>\n",
       "      <th>4</th>\n",
       "      <td>disgust</td>\n",
       "      <td>The time I knocked a deer down  the sight of t...</td>\n",
       "      <td>41</td>\n",
       "    </tr>\n",
       "  </tbody>\n",
       "</table>\n",
       "</div>"
      ],
      "text/plain": [
       "     label                                               text  Text_length\n",
       "0      joy  During the period of falling in love each time...           23\n",
       "1     fear          When I was involved in a traffic accident            8\n",
       "2    anger  When I was driving home after  several days of...           33\n",
       "3  sadness    When I lost the person who meant the most to me           11\n",
       "4  disgust  The time I knocked a deer down  the sight of t...           41"
      ]
     },
     "execution_count": 7,
     "metadata": {},
     "output_type": "execute_result"
    }
   ],
   "source": [
    "df.head()"
   ]
  },
  {
   "cell_type": "code",
   "execution_count": 8,
   "id": "0b6b77fb",
   "metadata": {},
   "outputs": [
    {
     "data": {
      "text/plain": [
       "Text(0, 0.5, 'number of words')"
      ]
     },
     "execution_count": 8,
     "metadata": {},
     "output_type": "execute_result"
    },
    {
     "data": {
      "image/png": "[encoded data removed]",
      "text/plain": [
       "<Figure size 432x288 with 1 Axes>"
      ]
     },
     "metadata": {
      "needs_background": "light"
     },
     "output_type": "display_data"
    }
   ],
   "source": [
    "table = pd.pivot_table(df, values='Text_length', index=label, aggfunc=np.sum)\n",
    "plt.plot(table)\n",
    "plt.ylabel('number of words')"
   ]
  },
  {
   "cell_type": "markdown",
   "id": "8dfd9321",
   "metadata": {},
   "source": [
    "**What is remarkable here is that people often wirte more when then express feeling of anger and write less when they joyed**"
   ]
  },
  {
   "cell_type": "code",
   "execution_count": 9,
   "id": "9c46f1b8",
   "metadata": {},
   "outputs": [],
   "source": [
    "# Prepare For Modeling by Pre-Processing Data"
   ]
  },
  {
   "cell_type": "code",
   "execution_count": 10,
   "id": "ef396af5",
   "metadata": {},
   "outputs": [
    {
     "name": "stdout",
     "output_type": "stream",
     "text": [
      "58\n"
     ]
    }
   ],
   "source": [
    "# check for duplication and drop them\n",
    "print(df.duplicated().sum())\n",
    "df=df.drop_duplicates()\n",
    "\n"
   ]
  },
  {
   "cell_type": "code",
   "execution_count": 11,
   "id": "396d10ac",
   "metadata": {},
   "outputs": [
    {
     "data": {
      "text/plain": [
       "anger      1080\n",
       "joy        1073\n",
       "fear       1071\n",
       "disgust    1056\n",
       "sadness    1052\n",
       "guilt      1052\n",
       "shame      1038\n",
       "Name: label, dtype: int64"
      ]
     },
     "execution_count": 11,
     "metadata": {},
     "output_type": "execute_result"
    }
   ],
   "source": [
    "\n",
    "df['label'].value_counts()\n"
   ]
  },
  {
   "cell_type": "code",
   "execution_count": 12,
   "id": "119abe65",
   "metadata": {},
   "outputs": [],
   "source": [
    "stopword=set(stopwords.words('english'))\n",
    "\n",
    "ps = PorterStemmer() \n",
    "lem = WordNetLemmatizer()\n",
    "\n",
    "def preprocess_tweet(text):\n",
    "    \n",
    "    text=text.lower()    \n",
    "    text_words=word_tokenize(text) \n",
    "    filtered_sent=[]\n",
    "    for w in text_words:\n",
    "        if w not in stopword:\n",
    "            filtered_sent.append(w)\n",
    "\n",
    "    stemmed_words=[]\n",
    "    for w in filtered_sent:\n",
    "       stemmed_words.append(ps.stem(w))\n",
    "       \n",
    "    lemmatized_words=[]\n",
    "    for w in stemmed_words:\n",
    "       lemmatized_words.append(lem.lemmatize(w))     \n",
    "    text=lemmatized_words\n",
    "    return(text)\n",
    "textSimple=[preprocess_tweet(line) for line in text ]\n"
   ]
  },
  {
   "cell_type": "code",
   "execution_count": 13,
   "id": "1b1bfee6",
   "metadata": {},
   "outputs": [
    {
     "name": "stdout",
     "output_type": "stream",
     "text": [
      "      label                                               text\n",
      "0       joy  [period, fall, love, time, met, especi, met, l...\n",
      "1      fear                           [involv, traffic, accid]\n",
      "2     anger  [drive, home, sever, day, hard, work, motorist...\n",
      "3   sadness                              [lost, person, meant]\n",
      "4   disgust  [time, knock, deer, sight, anim, injuri, helpl...\n",
      "5     shame                                     [speak, truth]\n",
      "6     guilt  [caus, problem, somebodi, could, keep, appoint...\n",
      "7       joy           [got, letter, offer, summer, job, appli]\n",
      "8      fear  [go, home, alon, one, night, pari, man, came, ...\n",
      "9     anger  [talk, parti, first, time, long, friend, came,...\n",
      "10  sadness                [friend, ask, go, new, year, parti]\n",
      "11  disgust  [saw, drunk, kid, year, old, town, walpurgi, n...\n",
      "12    shame  [could, rememb, say, present, task, account, m...\n",
      "13    guilt       [uncl, neighbour, came, home, polic, escort]\n",
      "14      joy  [day, feel, close, partner, friend, feel, peac...\n",
      "15     fear  [everi, time, imagin, someon, love, could, con...\n",
      "16    anger        [obvious, unjustli, treat, possibl, elucid]\n",
      "17  sadness  [think, short, time, live, relat, period, life...\n",
      "18  disgust  [gather, found, involuntarili, sit, next, two,...\n",
      "19    shame  [realiz, direct, feel, discont, partner, way, ...\n"
     ]
    }
   ],
   "source": [
    "df = pd.DataFrame({'label':label,'text':textSimple})\n",
    "print(df.head(20))"
   ]
  },
  {
   "cell_type": "code",
   "execution_count": 14,
   "id": "ff441769",
   "metadata": {},
   "outputs": [
    {
     "name": "stdout",
     "output_type": "stream",
     "text": [
      "label\n",
      "anger      1080\n",
      "disgust    1057\n",
      "fear       1078\n",
      "guilt      1057\n",
      "joy        1084\n",
      "sadness    1079\n",
      "shame      1045\n",
      "dtype: int64\n"
     ]
    }
   ],
   "source": [
    "\n",
    "# class distribution\n",
    "print(df.groupby('label').size())"
   ]
  },
  {
   "cell_type": "code",
   "execution_count": 15,
   "id": "923b4b78",
   "metadata": {},
   "outputs": [],
   "source": [
    "df['text']=[\" \".join(review) for review in df['text'].values]\n"
   ]
  },
  {
   "cell_type": "code",
   "execution_count": 16,
   "id": "7cf8a6c4",
   "metadata": {},
   "outputs": [],
   "source": [
    "data =np.array(df.text.values)\n",
    "label =np.array(df.label.values)\n"
   ]
  },
  {
   "cell_type": "code",
   "execution_count": 17,
   "id": "95651346",
   "metadata": {},
   "outputs": [],
   "source": [
    "# Build Models\n"
   ]
  },
  {
   "cell_type": "code",
   "execution_count": 18,
   "id": "8ddb8f0c",
   "metadata": {},
   "outputs": [
    {
     "name": "stdout",
     "output_type": "stream",
     "text": [
      "Accuracy for Random Forest on CV data:for ngram (1, 1)the accuracy is 0.5421122994652406\n",
      "Accuracy for Random Forest on CV data:for ngram (1, 2)the accuracy is 0.5741978609625669\n",
      "Accuracy for Random Forest on CV data:for ngram (1, 3)the accuracy is 0.5581550802139037\n",
      "Accuracy for Random Forest on CV data:for ngram (2, 2)the accuracy is 0.3810160427807487\n",
      "Accuracy for Random Forest on CV data:for ngram (2, 3)the accuracy is 0.3669786096256685\n"
     ]
    }
   ],
   "source": [
    "# looking for best n gram \n",
    "for i in [(1, 1),(1, 2),(1, 3),(2, 2),(2, 3)]:\n",
    "    tfv=TfidfVectorizer(sublinear_tf=True,ngram_range=i)\n",
    "    X=tfv.fit_transform(data)\n",
    "    lbl = LabelEncoder()\n",
    "    y = lbl.fit_transform(label)\n",
    "    X_train , X_test ,y_train, y_test= train_test_split(X,y,test_size=0.2)\n",
    "    rfc =RandomForestClassifier()\n",
    "    rfc.fit(X_train,y_train)\n",
    "    pred =rfc.predict(X_test)\n",
    "    print(f'Accuracy for Random Forest on CV data:for ngram {i}the accuracy is',accuracy_score(y_test,pred))\n"
   ]
  },
  {
   "cell_type": "code",
   "execution_count": 33,
   "id": "597c0a91",
   "metadata": {},
   "outputs": [],
   "source": [
    "tfv=TfidfVectorizer(sublinear_tf=True,ngram_range=(1, 2),max_features=5000)\n",
    "X=tfv.fit_transform(data)\n"
   ]
  },
  {
   "cell_type": "code",
   "execution_count": 34,
   "id": "7cd05de7",
   "metadata": {},
   "outputs": [],
   "source": [
    "lbl = LabelEncoder()\n",
    "\n",
    "y = lbl.fit_transform(label) \n"
   ]
  },
  {
   "cell_type": "code",
   "execution_count": 35,
   "id": "3034509f",
   "metadata": {},
   "outputs": [
    {
     "data": {
      "text/plain": [
       "array(['joy', 'fear', 'anger', ..., 'disgust', 'shame', 'guilt'],\n",
       "      dtype=object)"
      ]
     },
     "execution_count": 35,
     "metadata": {},
     "output_type": "execute_result"
    }
   ],
   "source": [
    "label"
   ]
  },
  {
   "cell_type": "code",
   "execution_count": 36,
   "id": "7bd9e466",
   "metadata": {},
   "outputs": [],
   "source": [
    "\n",
    "X_train , X_test ,y_train, y_test= train_test_split(X,y,test_size=0.1)\n"
   ]
  },
  {
   "cell_type": "code",
   "execution_count": 37,
   "id": "881aebb7",
   "metadata": {},
   "outputs": [
    {
     "name": "stdout",
     "output_type": "stream",
     "text": [
      "(6732, 5000)\n",
      "(748, 5000)\n"
     ]
    }
   ],
   "source": [
    "print(X_train.shape)\n",
    "print(X_test.shape)"
   ]
  },
  {
   "cell_type": "code",
   "execution_count": 38,
   "id": "82633266",
   "metadata": {},
   "outputs": [],
   "source": [
    "from sklearn.neural_network import MLPClassifier\n",
    "from sklearn.linear_model import Ridge,LinearRegression\n",
    "\n",
    "from sklearn.ensemble import RandomForestClassifier\n",
    "from sklearn.ensemble import GradientBoostingClassifier\n",
    "from sklearn.neighbors import KNeighborsClassifier\n",
    "from sklearn.tree import DecisionTreeClassifier\n",
    "from sklearn.ensemble import GradientBoostingRegressor\n",
    "from sklearn.naive_bayes import GaussianNB"
   ]
  },
  {
   "cell_type": "code",
   "execution_count": 43,
   "id": "28750737",
   "metadata": {},
   "outputs": [],
   "source": [
    "# Spot Check Algorithms\n",
    "models = []\n",
    "models.append(('LSVC', LinearSVC()))\n",
    "models.append(('RFC', RandomForestClassifier()))\n",
    "models.append(('KNC', KNeighborsClassifier( )))\n",
    "models.append(('DTC', DecisionTreeClassifier( )))\n",
    "models.append(('GBC', GradientBoostingClassifier( )))\n",
    "models.append(('MLPC', MLPClassifier( )))\n",
    "\n",
    "\n",
    "\n"
   ]
  },
  {
   "cell_type": "code",
   "execution_count": 44,
   "id": "2d790dc6",
   "metadata": {},
   "outputs": [
    {
     "name": "stdout",
     "output_type": "stream",
     "text": [
      "LSVC: 0.569515 (0.018493)\n",
      "RFC: 0.559416 (0.010992)\n",
      "KNC: 0.405967 (0.015471)\n",
      "DTC: 0.477568 (0.011970)\n",
      "GBC: 0.541150 (0.017439)\n",
      "MLPC: 0.510989 (0.014142)\n"
     ]
    }
   ],
   "source": [
    "# evaluate each model in turn\n",
    "results = []\n",
    "names = []\n",
    "for name, model in models:\n",
    "    kfold = StratifiedKFold(n_splits=10, random_state=1, shuffle=True)\n",
    "    cv_results = cross_val_score(model, X_train, y_train, cv=kfold, scoring='accuracy')\n",
    "    results.append(cv_results)\n",
    "    names.append(name)\n",
    "    print('%s: %f (%f)' % (name, cv_results.mean(), cv_results.std()))"
   ]
  },
  {
   "cell_type": "code",
   "execution_count": 42,
   "id": "12c93da7",
   "metadata": {},
   "outputs": [
    {
     "data": {
      "image/png": "[encoded data removed]",
      "text/plain": [
       "<Figure size 432x288 with 1 Axes>"
      ]
     },
     "metadata": {
      "needs_background": "light"
     },
     "output_type": "display_data"
    }
   ],
   "source": [
    "# Compare Algorithms\n",
    "from matplotlib import pyplot\n",
    "\n",
    "pyplot.boxplot(results, labels=names)\n",
    "pyplot.title('Algorithm Comparison')\n",
    "pyplot.show()"
   ]
  },
  {
   "cell_type": "code",
   "execution_count": null,
   "id": "dd997b50",
   "metadata": {},
   "outputs": [],
   "source": [
    "# tuning the tow best model "
   ]
  },
  {
   "cell_type": "code",
   "execution_count": 45,
   "id": "19bc3930",
   "metadata": {},
   "outputs": [],
   "source": [
    "lsvc=LinearSVC(max_iter= 500)\n",
    "lsvc.fit(X_train,y_train)\n",
    "pred_lsvc =lsvc.predict(X_test)\n"
   ]
  },
  {
   "cell_type": "code",
   "execution_count": null,
   "id": "c0eb49e2",
   "metadata": {},
   "outputs": [],
   "source": []
  },
  {
   "cell_type": "code",
   "execution_count": 46,
   "id": "edfb3532",
   "metadata": {},
   "outputs": [
    {
     "data": {
      "text/plain": [
       "GridSearchCV(cv=5, estimator=RandomForestClassifier(),\n",
       "             param_grid={'criterion': ['gini', 'entropy'],\n",
       "                         'max_depth': [11, 12, 13, 14, 15],\n",
       "                         'max_features': ['auto', 'sqrt', 'log2'],\n",
       "                         'n_estimators': [400, 500, 600, 700, 800]})"
      ]
     },
     "execution_count": 46,
     "metadata": {},
     "output_type": "execute_result"
    }
   ],
   "source": [
    "rfc =RandomForestClassifier()\n",
    "param_grid = { \n",
    "    'n_estimators': [400,500, 600,700,800],\n",
    "    'max_features': ['auto', 'sqrt', 'log2'],\n",
    "    'max_depth' : [11,12,13,14,15],\n",
    "    'criterion' :['gini', 'entropy']\n",
    "}\n",
    "\n",
    "CV_rfc = GridSearchCV(estimator=rfc, param_grid=param_grid, cv= 5)\n",
    "CV_rfc.fit(X_train, y_train)"
   ]
  },
  {
   "cell_type": "code",
   "execution_count": 47,
   "id": "4a8d3a25",
   "metadata": {},
   "outputs": [
    {
     "data": {
      "text/plain": [
       "{'criterion': 'entropy',\n",
       " 'max_depth': 15,\n",
       " 'max_features': 'log2',\n",
       " 'n_estimators': 800}"
      ]
     },
     "execution_count": 47,
     "metadata": {},
     "output_type": "execute_result"
    }
   ],
   "source": [
    "CV_rfc.best_params_\n"
   ]
  },
  {
   "cell_type": "code",
   "execution_count": 48,
   "id": "f27bda42",
   "metadata": {},
   "outputs": [],
   "source": [
    "rfc =RandomForestClassifier(criterion='entropy',max_depth=15,max_features='log2',n_estimators= 800)\n"
   ]
  },
  {
   "cell_type": "code",
   "execution_count": 49,
   "id": "0ce99de8",
   "metadata": {},
   "outputs": [],
   "source": [
    "rfc.fit(X_train,y_train)\n",
    "pred_rfc =rfc.predict(X_test)\n"
   ]
  },
  {
   "cell_type": "code",
   "execution_count": 50,
   "id": "5f4a529f",
   "metadata": {},
   "outputs": [
    {
     "name": "stdout",
     "output_type": "stream",
     "text": [
      "Accuracy for Random Forest on CV data:  0.5320855614973262\n"
     ]
    }
   ],
   "source": [
    "\n",
    "print(\"Accuracy for Random Forest on CV data: \",accuracy_score(y_test,pred_rfc))\n"
   ]
  },
  {
   "cell_type": "code",
   "execution_count": 54,
   "id": "5774fa9f",
   "metadata": {},
   "outputs": [
    {
     "name": "stdout",
     "output_type": "stream",
     "text": [
      "Accuracy for Random Forest on CV data:  0.5374331550802139\n"
     ]
    }
   ],
   "source": [
    "print(\"Accuracy for Random Forest on CV data: \",accuracy_score(y_test,pred_lsvc))\n"
   ]
  },
  {
   "cell_type": "code",
   "execution_count": 56,
   "id": "7ef0cdd5",
   "metadata": {},
   "outputs": [
    {
     "ename": "NameError",
     "evalue": "name 'cm_analysis' is not defined",
     "output_type": "error",
     "traceback": [
      "\u001b[0;31m---------------------------------------------------------------------------\u001b[0m",
      "\u001b[0;31mNameError\u001b[0m                                 Traceback (most recent call last)",
      "\u001b[0;32m<ipython-input-56-8499d89bcad2>\u001b[0m in \u001b[0;36m<module>\u001b[0;34m\u001b[0m\n\u001b[0;32m----> 1\u001b[0;31m \u001b[0mcm_analysis\u001b[0m\u001b[0;34m(\u001b[0m\u001b[0my_test\u001b[0m\u001b[0;34m,\u001b[0m\u001b[0mpred_rfc\u001b[0m\u001b[0;34m)\u001b[0m\u001b[0;34m\u001b[0m\u001b[0;34m\u001b[0m\u001b[0m\n\u001b[0m",
      "\u001b[0;31mNameError\u001b[0m: name 'cm_analysis' is not defined"
     ]
    }
   ],
   "source": [
    "\n",
    "cmconfusion_matrix\n",
    "cm_analysis(y_test,pred_rfc)"
   ]
  },
  {
   "cell_type": "code",
   "execution_count": 82,
   "id": "3dc3b583",
   "metadata": {},
   "outputs": [],
   "source": [
    "x = tfv.transform(['i hate you' ])\n",
    "t = rfc.predict(x)\n"
   ]
  },
  {
   "cell_type": "code",
   "execution_count": null,
   "id": "69f1f531",
   "metadata": {},
   "outputs": [],
   "source": []
  },
  {
   "cell_type": "code",
   "execution_count": 58,
   "id": "f871cac1",
   "metadata": {},
   "outputs": [
    {
     "data": {
      "image/png": "[encoded data removed]",
      "text/plain": [
       "<Figure size 576x432 with 2 Axes>"
      ]
     },
     "metadata": {
      "needs_background": "light"
     },
     "output_type": "display_data"
    }
   ],
   "source": [
    "\n",
    "cm1 =confusion_matrix(y_test,pred_lsvc)\n",
    "cm2 =confusion_matrix(y_test,pred_rfc)\n",
    "\n",
    "plot_confusion_matrix(cm1,emotions)\n"
   ]
  },
  {
   "cell_type": "code",
   "execution_count": 59,
   "id": "81a7360d",
   "metadata": {},
   "outputs": [
    {
     "data": {
      "image/png": "[encoded data removed]",
      "text/plain": [
       "<Figure size 576x432 with 2 Axes>"
      ]
     },
     "metadata": {
      "needs_background": "light"
     },
     "output_type": "display_data"
    }
   ],
   "source": [
    "plot_confusion_matrix(cm2,emotions)"
   ]
  },
  {
   "cell_type": "code",
   "execution_count": null,
   "id": "34a78721",
   "metadata": {},
   "outputs": [],
   "source": [
    "# testing the model "
   ]
  },
  {
   "cell_type": "code",
   "execution_count": 68,
   "id": "e8358c22",
   "metadata": {},
   "outputs": [],
   "source": [
    "text = ['i love you' , 'i hate you', ' i feel sad']\n",
    "x = tfv.transform(text)\n",
    "t = rfc.predict(x)"
   ]
  },
  {
   "cell_type": "code",
   "execution_count": 69,
   "id": "2380acc9",
   "metadata": {},
   "outputs": [],
   "source": [
    "t= lbl.inverse_transform(t)"
   ]
  },
  {
   "cell_type": "code",
   "execution_count": 70,
   "id": "b95610d8",
   "metadata": {},
   "outputs": [
    {
     "data": {
      "text/plain": [
       "array(['joy', 'anger', 'sadness'], dtype=object)"
      ]
     },
     "execution_count": 70,
     "metadata": {},
     "output_type": "execute_result"
    }
   ],
   "source": [
    "t"
   ]
  },
  {
   "cell_type": "code",
   "execution_count": null,
   "id": "cca9fb74",
   "metadata": {},
   "outputs": [],
   "source": []
  }
 ],
 "metadata": {
  "kernelspec": {
   "display_name": "Python 3",
   "language": "python",
   "name": "python3"
  },
  "language_info": {
   "codemirror_mode": {
    "name": "ipython",
    "version": 3
   },
   "file_extension": ".py",
   "mimetype": "text/x-python",
   "name": "python",
   "nbconvert_exporter": "python",
   "pygments_lexer": "ipython3",
   "version": "3.8.8"
  }
 },
 "nbformat": 4,
 "nbformat_minor": 5
}
